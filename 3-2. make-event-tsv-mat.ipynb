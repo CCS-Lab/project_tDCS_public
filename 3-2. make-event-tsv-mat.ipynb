{
 "cells": [
  {
   "cell_type": "code",
   "execution_count": 1,
   "metadata": {},
   "outputs": [],
   "source": [
    "import pandas as pd\n",
    "import numpy as np\n",
    "import os\n",
    "from pathlib import Path\n",
    "from scipy import io"
   ]
  },
  {
   "cell_type": "code",
   "execution_count": 2,
   "metadata": {},
   "outputs": [
    {
     "data": {
      "text/plain": [
       "'/home/kimhj9502/Project/project_tDCS/analysis'"
      ]
     },
     "execution_count": 2,
     "metadata": {},
     "output_type": "execute_result"
    }
   ],
   "source": [
    "pwd"
   ]
  },
  {
   "cell_type": "code",
   "execution_count": 3,
   "metadata": {},
   "outputs": [],
   "source": [
    "# Set directories\n",
    "#DATA_DIR = Path('/home/kimhj9502/Project/project_tDCS/fMRI_task/data')\n",
    "#REG_DIR = Path('/home/kimhj9502/Project/project_tDCS/analysis/fmri/data/regs') \n",
    "#OUT_DIR = Path('/home/kimhj9502/Project/project_tDCS/analysis/fmri/data/events')"
   ]
  },
  {
   "cell_type": "code",
   "execution_count": 4,
   "metadata": {},
   "outputs": [],
   "source": [
    "# Set directories\n",
    "DATA_DIR = Path('/home/kimhj9502/Project/project_tDCS/fMRI_task/data')\n",
    "REG_DIR = Path('/data2/project_BRL/project_tDCS/behav/modeling/regs') \n",
    "OUT_DIR = Path('/data2/project_BRL/project_tDCS/events')"
   ]
  },
  {
   "cell_type": "code",
   "execution_count": 5,
   "metadata": {},
   "outputs": [],
   "source": [
    "#subs = np.unique([np.int(s.split('_')[0].split('sub-')[-1]) for s in os.listdir(DATA_DIR) if '.tsv' in s])"
   ]
  },
  {
   "cell_type": "code",
   "execution_count": 5,
   "metadata": {},
   "outputs": [],
   "source": [
    "subs = [15, 27, 69]"
   ]
  },
  {
   "cell_type": "code",
   "execution_count": 6,
   "metadata": {},
   "outputs": [],
   "source": [
    "# List of tsvs\n",
    "tsvs = [f for f in os.listdir(DATA_DIR) if '.tsv' in f and int(f.split('_')[0].split('-')[-1]) in subs]"
   ]
  },
  {
   "cell_type": "code",
   "execution_count": 10,
   "metadata": {},
   "outputs": [],
   "source": [
    "def events(tsv, save):\n",
    "    #print(tsv.split('.')[0], ' started')\n",
    "    data = pd.read_csv(DATA_DIR / tsv, sep = '\\t', index_col = 0)\n",
    "\n",
    "    sub = int(tsv.split('_')[0].split('-')[-1])\n",
    "    ses = int(tsv.split('_')[1].split('-')[-1])\n",
    "    run = int(tsv.split('_')[3].split('-')[-1])\n",
    "    \n",
    "\n",
    "    cueOnset_ls    = data['time_onset']    - data['time_scan'].iloc[0]\n",
    "    fix1Onset_ls   = data['time_isi1']     - data['time_scan'].iloc[0]\n",
    "    targetOnset_ls = data['time_circle']   - data['time_scan'].iloc[0]\n",
    "    fix2Onset_ls   = data['time_isi2']     - data['time_scan'].iloc[0]\n",
    "    fbOnset_ls     = data['time_feedback'] - data['time_scan'].iloc[0]\n",
    "    waitOnset_ls   = data['time_iti']      - data['time_scan'].iloc[0]\n",
    "    timeDone_ls    = data['time_done']     - data['time_scan'].iloc[0]\n",
    "    cueDur_ls      = targetOnset_ls        - cueOnset_ls\n",
    "    #fix1Dur_ls     = targetOnset_ls        - fix1Onset_ls\n",
    "    #targetDur_ls   = fix2Onset_ls          - targetOnset_ls\n",
    "    fix2Dur_ls     = fbOnset_ls            - fix2Onset_ls\n",
    "    fbDur_ls       = waitOnset_ls          - fbOnset_ls\n",
    "    waitDur_ls     = timeDone_ls           - waitOnset_ls\n",
    "\n",
    "    tmp_ = pd.DataFrame({'cueOnset'   : cueOnset_ls,\n",
    "                         'fix1Onset'  : fix1Onset_ls,\n",
    "                         'targetOnset': targetOnset_ls,\n",
    "                         'fix2Onset'  : fix2Onset_ls,\n",
    "                         'fbOnset'    : fbOnset_ls,\n",
    "                         'waitOnset'  : waitOnset_ls,\n",
    "                         'cueDur'     : cueDur_ls,\n",
    "                         #'fix1Dur'    : fix1Dur_ls,\n",
    "                         #'targetDur'  : targetDur_ls,\n",
    "                         'fbDur'      : fbDur_ls,\n",
    "                         'fix2Dur'    : fix2Dur_ls,\n",
    "                         'waitDur'    : waitDur_ls})\n",
    "\n",
    "    tmp = pd.concat([tmp_, data], axis = 1)\n",
    "\n",
    "    if save:\n",
    "        fname = tsv[:4] + 'BRL' + tsv[4:]\n",
    "        tmp.to_csv(OUT_DIR / 'tsvs'/ fname ,sep='\\t', index = False)\n",
    "        mat = fname.split('.')[0]+'.mat'\n",
    "        io.savemat(str(OUT_DIR / 'mats'/ mat), {'struct':tmp.to_dict(\"list\")},oned_as='column')\n",
    "\n",
    "        print(fname.split('.')[0], ' saved')\n",
    "    else:\n",
    "        print(fname.split('.')[0], ' done')"
   ]
  },
  {
   "cell_type": "code",
   "execution_count": 11,
   "metadata": {},
   "outputs": [
    {
     "name": "stdout",
     "output_type": "stream",
     "text": [
      "sub-BRL0069_ses-1_task-gng_run-3_events  saved\n",
      "sub-BRL0015_ses-1_task-gng_run-3_events  saved\n",
      "sub-BRL0027_ses-1_task-gng_run-3_events  saved\n",
      "sub-BRL0069_ses-1_task-gng_run-2_events  saved\n",
      "sub-BRL0015_ses-2_task-gng_run-2_events  saved\n",
      "sub-BRL0069_ses-1_task-gng_run-1_events  saved\n",
      "sub-BRL0015_ses-1_task-gng_run-2_events  saved\n",
      "sub-BRL0015_ses-2_task-gng_run-1_events  saved\n",
      "sub-BRL0027_ses-2_task-gng_run-1_events  saved\n",
      "sub-BRL0015_ses-2_task-gng_run-3_events  saved\n",
      "sub-BRL0027_ses-2_task-gng_run-2_events  saved\n",
      "sub-BRL0027_ses-1_task-gng_run-1_events  saved\n",
      "sub-BRL0027_ses-2_task-gng_run-3_events  saved\n",
      "sub-BRL0015_ses-1_task-gng_run-1_events  saved\n",
      "sub-BRL0027_ses-1_task-gng_run-2_events  saved\n"
     ]
    }
   ],
   "source": [
    "for tsv in tsvs:\n",
    "    events(tsv=tsv, save=True)"
   ]
  },
  {
   "cell_type": "code",
   "execution_count": null,
   "metadata": {},
   "outputs": [],
   "source": []
  }
 ],
 "metadata": {
  "kernelspec": {
   "display_name": "Python 3",
   "language": "python",
   "name": "python3"
  },
  "language_info": {
   "codemirror_mode": {
    "name": "ipython",
    "version": 3
   },
   "file_extension": ".py",
   "mimetype": "text/x-python",
   "name": "python",
   "nbconvert_exporter": "python",
   "pygments_lexer": "ipython3",
   "version": "3.7.10"
  }
 },
 "nbformat": 4,
 "nbformat_minor": 2
}
