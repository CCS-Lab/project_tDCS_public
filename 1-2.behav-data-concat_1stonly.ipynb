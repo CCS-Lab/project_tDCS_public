{
 "cells": [
  {
   "cell_type": "code",
   "execution_count": 1,
   "metadata": {},
   "outputs": [],
   "source": [
    "import os\n",
    "from pathlib import Path\n",
    "\n",
    "import pandas as pd\n",
    "import matplotlib.pyplot as plt\n",
    "import numpy as np"
   ]
  },
  {
   "cell_type": "code",
   "execution_count": 2,
   "metadata": {},
   "outputs": [
    {
     "data": {
      "text/plain": [
       "'/home/kimhj9502/Project/project_tDCS/analysis'"
      ]
     },
     "execution_count": 2,
     "metadata": {},
     "output_type": "execute_result"
    }
   ],
   "source": [
    "pwd"
   ]
  },
  {
   "cell_type": "code",
   "execution_count": 3,
   "metadata": {},
   "outputs": [],
   "source": [
    "DATA_DIR = Path('/home/kimhj9502/Project/project_tDCS/fMRI_task/data')"
   ]
  },
  {
   "cell_type": "code",
   "execution_count": 4,
   "metadata": {},
   "outputs": [],
   "source": [
    "OUT_DIR = Path('/data2/project_BRL/project_tDCS/behav/data')"
   ]
  },
  {
   "cell_type": "code",
   "execution_count": 5,
   "metadata": {},
   "outputs": [],
   "source": [
    "# 116 - 중도포기 \n",
    "anode_first = [14, 28, 18, 33, 61, 60, 63, 64, 76, 91, 86, 59, 105, 107, 109, 112, 121, 127, 126, 103] # 116\n",
    "sham_first = [4, 15, 30, 54, 43, 11, 27, 94, 73, 79, 101, 102, 108, 110, 104, 113, 125, 69]"
   ]
  },
  {
   "cell_type": "code",
   "execution_count": 6,
   "metadata": {},
   "outputs": [],
   "source": [
    "sub_ls = anode_first + sham_first"
   ]
  },
  {
   "cell_type": "code",
   "execution_count": 7,
   "metadata": {},
   "outputs": [
    {
     "data": {
      "text/plain": [
       "38"
      ]
     },
     "execution_count": 7,
     "metadata": {},
     "output_type": "execute_result"
    }
   ],
   "source": [
    "len(sub_ls)"
   ]
  },
  {
   "cell_type": "code",
   "execution_count": 8,
   "metadata": {},
   "outputs": [
    {
     "name": "stdout",
     "output_type": "stream",
     "text": [
      "0014\n",
      "0028\n",
      "0018\n",
      "0033\n",
      "0061\n",
      "0060\n",
      "0063\n",
      "0064\n",
      "0076\n",
      "0091\n",
      "0086\n",
      "0059\n",
      "0105\n",
      "0107\n",
      "0109\n",
      "0112\n",
      "0121\n",
      "0127\n",
      "0126\n",
      "0103\n",
      "0004\n",
      "0015\n",
      "0030\n",
      "0054\n",
      "0043\n",
      "0011\n",
      "0027\n",
      "0094\n",
      "0073\n",
      "0079\n",
      "0101\n",
      "0102\n",
      "0108\n",
      "0110\n",
      "0104\n",
      "0113\n",
      "0125\n",
      "0069\n"
     ]
    }
   ],
   "source": [
    "m = 0\n",
    "for i in sub_ls:\n",
    "    tsvs = [s for s in sorted(os.listdir(DATA_DIR)) if '.tsv' in s]\n",
    "    tmp = format(i, '04d')\n",
    "    print(tmp)\n",
    "    tmp_ls = [s for s in tsvs if tmp in s]\n",
    "    \n",
    "    anode = 1 if i in anode_first else 2\n",
    "    sham = 1 if i in sham_first else 2\n",
    "    \n",
    "    c = 0\n",
    "    for n in [sham, anode]:\n",
    "        run_ls = [s for s in tmp_ls if 'ses-'+str(n) in s]\n",
    "        \n",
    "        if len(run_ls) > 0:\n",
    "            run_1 = pd.read_table(DATA_DIR / run_ls[0],index_col = 0)\n",
    "            run_2 = pd.read_table(DATA_DIR / run_ls[1],index_col = 0)\n",
    "            run_3 = pd.read_table(DATA_DIR / run_ls[2],index_col = 0)\n",
    "            \n",
    "            ## Fix errors in BRL0011 ses-1 run-3 subject 112 --> 11\n",
    "            if (i == 11) and (n == 1):\n",
    "                run_3.index = [11] * len(run_3.index); run_3.index.name = 'subject'\n",
    "            ##\n",
    "            \n",
    "            run_12 = pd.concat([run_1, run_2])\n",
    "\n",
    "            ses = pd.concat([run_12, run_3])\n",
    "            ses['trial'] = list(range(1,181))\n",
    "            \n",
    "            if c == 0:\n",
    "                ses['db'] = 1; ses['ses'] = n\n",
    "                ses.to_csv(OUT_DIR/'concat_sub'/('sub-BRL'+tmp+'_ses-sham.tsv'), sep='\\t')\n",
    "                if m == 0:\n",
    "                    sham_df = ses\n",
    "                else:\n",
    "                    sham_df = pd.concat([sham_df, ses])\n",
    "            else:\n",
    "                ses['db'] = 2; ses['ses'] = n \n",
    "                ses.to_csv(OUT_DIR/'concat_sub'/('sub-BRL'+tmp+'_ses-anode.tsv'), sep='\\t')\n",
    "                if m == 0:\n",
    "                    anode_df = ses\n",
    "                else:\n",
    "                    anode_df = pd.concat([anode_df, ses])\n",
    "\n",
    "        c=c+1\n",
    "    m=m+1"
   ]
  },
  {
   "cell_type": "code",
   "execution_count": 9,
   "metadata": {},
   "outputs": [],
   "source": [
    "anode_df.to_csv(OUT_DIR / 'anode_2106.txt', sep='\\t')\n",
    "sham_df.to_csv(OUT_DIR / 'sham_2106.txt', sep='\\t')"
   ]
  },
  {
   "cell_type": "code",
   "execution_count": 10,
   "metadata": {},
   "outputs": [],
   "source": [
    "all_df = pd.concat([anode_df,sham_df])"
   ]
  },
  {
   "cell_type": "code",
   "execution_count": 11,
   "metadata": {},
   "outputs": [],
   "source": [
    "all_df.to_csv(OUT_DIR / 'all_2106.txt', sep='\\t')"
   ]
  },
  {
   "cell_type": "code",
   "execution_count": null,
   "metadata": {},
   "outputs": [],
   "source": []
  }
 ],
 "metadata": {
  "kernelspec": {
   "display_name": "Python 3",
   "language": "python",
   "name": "python3"
  },
  "language_info": {
   "codemirror_mode": {
    "name": "ipython",
    "version": 3
   },
   "file_extension": ".py",
   "mimetype": "text/x-python",
   "name": "python",
   "nbconvert_exporter": "python",
   "pygments_lexer": "ipython3",
   "version": "3.7.10"
  }
 },
 "nbformat": 4,
 "nbformat_minor": 2
}
