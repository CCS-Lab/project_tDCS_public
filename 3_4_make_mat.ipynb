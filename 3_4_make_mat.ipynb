{
 "cells": [
  {
   "cell_type": "code",
   "execution_count": 1,
   "metadata": {},
   "outputs": [],
   "source": [
    "import pandas as pd\n",
    "import numpy as np\n",
    "import os\n",
    "from pathlib import Path\n",
    "from scipy import io"
   ]
  },
  {
   "cell_type": "code",
   "execution_count": 2,
   "metadata": {},
   "outputs": [
    {
     "data": {
      "text/plain": [
       "'/home/kimhj9502/Project/project_tDCS/analysis'"
      ]
     },
     "execution_count": 2,
     "metadata": {},
     "output_type": "execute_result"
    }
   ],
   "source": [
    "pwd"
   ]
  },
  {
   "cell_type": "code",
   "execution_count": 3,
   "metadata": {},
   "outputs": [],
   "source": [
    "# Set directories\n",
    "DATA_DIR = Path('/home/kimhj9502/Project/project_tDCS/fMRI_task/data')\n",
    "REG_DIR = Path('/data2/project_BRL/project_tDCS/behav/modeling/regs') \n",
    "OUT_DIR = Path('/data2/project_BRL/project_tDCS/events-concat')"
   ]
  },
  {
   "cell_type": "code",
   "execution_count": 4,
   "metadata": {},
   "outputs": [],
   "source": [
    "#anode_first = [28, 18, 33, 60, 63, 64, 76, 91, 86, 59, 105, 107, 109, 112, 121, 127] # 14, 61, 103, 116, 126\n",
    "#sham_first = [30, 54, 43, 11, 73, 79, 101, 108, 110, 104, 125] # 4, 15, 27, 69, 94, 102, 113\n",
    "#subs = anode_first + sham_first"
   ]
  },
  {
   "cell_type": "code",
   "execution_count": 5,
   "metadata": {},
   "outputs": [],
   "source": [
    "# N = 31\n",
    "anode_first = [28, 18, 33, 60, 63, 64, 76, 91, 86, 59, 105, 107, 109, 112, 121, 127, 126]\n",
    "sham_first = [15, 30, 54, 43, 11, 27, 73, 79, 101, 108, 110, 104, 125, 69]\n",
    "subs = anode_first + sham_first"
   ]
  },
  {
   "cell_type": "code",
   "execution_count": 6,
   "metadata": {},
   "outputs": [
    {
     "data": {
      "text/plain": [
       "31"
      ]
     },
     "execution_count": 6,
     "metadata": {},
     "output_type": "execute_result"
    }
   ],
   "source": [
    "len(subs)"
   ]
  },
  {
   "cell_type": "code",
   "execution_count": 7,
   "metadata": {},
   "outputs": [
    {
     "data": {
      "text/plain": [
       "17"
      ]
     },
     "execution_count": 7,
     "metadata": {},
     "output_type": "execute_result"
    }
   ],
   "source": [
    "len(anode_first)"
   ]
  },
  {
   "cell_type": "code",
   "execution_count": 8,
   "metadata": {},
   "outputs": [
    {
     "data": {
      "text/plain": [
       "14"
      ]
     },
     "execution_count": 8,
     "metadata": {},
     "output_type": "execute_result"
    }
   ],
   "source": [
    "len(sham_first)"
   ]
  },
  {
   "cell_type": "code",
   "execution_count": 9,
   "metadata": {},
   "outputs": [],
   "source": [
    "data_dir = Path('/data2/project_BRL/project_tDCS/events/csvs')"
   ]
  },
  {
   "cell_type": "code",
   "execution_count": 10,
   "metadata": {},
   "outputs": [],
   "source": [
    "# List of tsvs\n",
    "tsvs = [f for f in os.listdir(DATA_DIR) if '.tsv' in f and int(f.split('_')[0].split('-')[-1]) in subs]"
   ]
  },
  {
   "cell_type": "code",
   "execution_count": 31,
   "metadata": {},
   "outputs": [],
   "source": [
    "def events(sub, ses, save):\n",
    "    for tsv in tsvs:\n",
    "        if (str(sub)+'_ses' in tsv) and ('ses-'+str(ses) in tsv):\n",
    "            #print(tsv)\n",
    "            if 'run-1' in tsv:\n",
    "                data1 = pd.read_csv(DATA_DIR / tsv, sep = '\\t', index_col = 0)\n",
    "            if 'run-2' in tsv:\n",
    "                data2 = pd.read_csv(DATA_DIR / tsv, sep = '\\t', index_col = 0)\n",
    "            if 'run-3' in tsv:\n",
    "                data3 = pd.read_csv(DATA_DIR / tsv, sep = '\\t', index_col = 0)\n",
    "\n",
    "    data = pd.concat([data1, data2, data3], ignore_index=True)\n",
    "\n",
    "    d_sr = data[['cond', 'outcome', 'is_correct']].replace('go_reward',1).replace('go_punish', 2).replace('nogo_reward', 3).replace('nogo_punish', 4)# s, r, a, T\n",
    "    d_a = data['key_pressed'].replace(1,2).replace(0, 1)\n",
    "    d_sr['a'] = d_a\n",
    "    d_sr.columns = ['s', 'r', 'acc','a']\n",
    "\n",
    "    if save:\n",
    "        tmp = 'sub-' + str(sub) + '_ses-1_task-gng_events.csv'\n",
    "        d_sr.to_csv(data_dir / tmp)\n",
    "        print(tmp)"
   ]
  },
  {
   "cell_type": "code",
   "execution_count": 32,
   "metadata": {},
   "outputs": [
    {
     "name": "stdout",
     "output_type": "stream",
     "text": [
      "sub-28_ses-1_task-gng_events.csv\n",
      "sub-18_ses-1_task-gng_events.csv\n",
      "sub-33_ses-1_task-gng_events.csv\n",
      "sub-60_ses-1_task-gng_events.csv\n",
      "sub-63_ses-1_task-gng_events.csv\n",
      "sub-64_ses-1_task-gng_events.csv\n",
      "sub-76_ses-1_task-gng_events.csv\n",
      "sub-91_ses-1_task-gng_events.csv\n",
      "sub-86_ses-1_task-gng_events.csv\n",
      "sub-59_ses-1_task-gng_events.csv\n",
      "sub-105_ses-1_task-gng_events.csv\n",
      "sub-107_ses-1_task-gng_events.csv\n",
      "sub-109_ses-1_task-gng_events.csv\n",
      "sub-112_ses-1_task-gng_events.csv\n",
      "sub-121_ses-1_task-gng_events.csv\n",
      "sub-127_ses-1_task-gng_events.csv\n",
      "sub-126_ses-1_task-gng_events.csv\n",
      "sub-15_ses-1_task-gng_events.csv\n",
      "sub-30_ses-1_task-gng_events.csv\n",
      "sub-54_ses-1_task-gng_events.csv\n",
      "sub-43_ses-1_task-gng_events.csv\n",
      "sub-11_ses-1_task-gng_events.csv\n",
      "sub-27_ses-1_task-gng_events.csv\n",
      "sub-73_ses-1_task-gng_events.csv\n",
      "sub-79_ses-1_task-gng_events.csv\n",
      "sub-101_ses-1_task-gng_events.csv\n",
      "sub-108_ses-1_task-gng_events.csv\n",
      "sub-110_ses-1_task-gng_events.csv\n",
      "sub-104_ses-1_task-gng_events.csv\n",
      "sub-125_ses-1_task-gng_events.csv\n",
      "sub-69_ses-1_task-gng_events.csv\n"
     ]
    }
   ],
   "source": [
    "for sub in subs:\n",
    "    for ses in [1]:\n",
    "        events(sub=sub, ses=ses, save=True)"
   ]
  },
  {
   "cell_type": "code",
   "execution_count": null,
   "metadata": {},
   "outputs": [],
   "source": []
  }
 ],
 "metadata": {
  "kernelspec": {
   "display_name": "Python 3",
   "language": "python",
   "name": "python3"
  },
  "language_info": {
   "codemirror_mode": {
    "name": "ipython",
    "version": 3
   },
   "file_extension": ".py",
   "mimetype": "text/x-python",
   "name": "python",
   "nbconvert_exporter": "python",
   "pygments_lexer": "ipython3",
   "version": "3.6.5"
  }
 },
 "nbformat": 4,
 "nbformat_minor": 2
}
