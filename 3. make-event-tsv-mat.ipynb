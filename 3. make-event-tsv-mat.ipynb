{
 "cells": [
  {
   "cell_type": "code",
   "execution_count": 1,
   "metadata": {},
   "outputs": [],
   "source": [
    "import pandas as pd\n",
    "import numpy as np\n",
    "import os\n",
    "from pathlib import Path\n",
    "from scipy import io"
   ]
  },
  {
   "cell_type": "code",
   "execution_count": 2,
   "metadata": {},
   "outputs": [
    {
     "data": {
      "text/plain": [
       "'/home/kimhj9502/Project/project_tDCS/analysis'"
      ]
     },
     "execution_count": 2,
     "metadata": {},
     "output_type": "execute_result"
    }
   ],
   "source": [
    "pwd"
   ]
  },
  {
   "cell_type": "code",
   "execution_count": 3,
   "metadata": {},
   "outputs": [],
   "source": [
    "# Set directories\n",
    "#DATA_DIR = Path('/home/kimhj9502/Project/project_tDCS/fMRI_task/data')\n",
    "#REG_DIR = Path('/home/kimhj9502/Project/project_tDCS/analysis/fmri/data/regs') \n",
    "#OUT_DIR = Path('/home/kimhj9502/Project/project_tDCS/analysis/fmri/data/events')"
   ]
  },
  {
   "cell_type": "code",
   "execution_count": 4,
   "metadata": {},
   "outputs": [],
   "source": [
    "# Set directories\n",
    "DATA_DIR = Path('/home/kimhj9502/Project/project_tDCS/fMRI_task/data')\n",
    "REG_DIR = Path('/data2/project_BRL/project_tDCS/behav/modeling/regs') \n",
    "OUT_DIR = Path('/data2/project_BRL/project_tDCS/events')"
   ]
  },
  {
   "cell_type": "code",
   "execution_count": 5,
   "metadata": {},
   "outputs": [],
   "source": [
    "#subs = np.unique([np.int(s.split('_')[0].split('sub-')[-1]) for s in os.listdir(DATA_DIR) if '.tsv' in s])"
   ]
  },
  {
   "cell_type": "code",
   "execution_count": 17,
   "metadata": {},
   "outputs": [],
   "source": [
    "anode_first = [28, 18, 33, 60, 63, 64, 76, 91, 86, 59, 105, 107, 109, 112, 121, 127] # 14, 61, 103, 116, 126\n",
    "sham_first = [30, 54, 43, 11, 73, 79, 101, 108, 110, 104, 125] # 4, 15, 27, 69, 94, 102, 113\n",
    "subs = anode_first + sham_first"
   ]
  },
  {
   "cell_type": "code",
   "execution_count": 18,
   "metadata": {},
   "outputs": [
    {
     "data": {
      "text/plain": [
       "27"
      ]
     },
     "execution_count": 18,
     "metadata": {},
     "output_type": "execute_result"
    }
   ],
   "source": [
    "len(subs)"
   ]
  },
  {
   "cell_type": "code",
   "execution_count": 15,
   "metadata": {},
   "outputs": [
    {
     "data": {
      "text/plain": [
       "16"
      ]
     },
     "execution_count": 15,
     "metadata": {},
     "output_type": "execute_result"
    }
   ],
   "source": [
    "len(anode_first)"
   ]
  },
  {
   "cell_type": "code",
   "execution_count": 16,
   "metadata": {},
   "outputs": [
    {
     "data": {
      "text/plain": [
       "11"
      ]
     },
     "execution_count": 16,
     "metadata": {},
     "output_type": "execute_result"
    }
   ],
   "source": [
    "len(sham_first)"
   ]
  },
  {
   "cell_type": "code",
   "execution_count": 7,
   "metadata": {},
   "outputs": [],
   "source": [
    "#subs_brl = []\n",
    "#for sub in subs:\n",
    "#    tmp = 'sub-BRL'+'{:04d}'.format(sub)\n",
    "#    subs_brl.append(tmp)"
   ]
  },
  {
   "cell_type": "code",
   "execution_count": 19,
   "metadata": {},
   "outputs": [],
   "source": [
    "# Load model regressors\n",
    "Qgo_anode = pd.read_csv(REG_DIR / 'Qgo_anode.csv', index_col = 0); Qgo_anode = Qgo_anode.T; Qgo_anode.columns = subs\n",
    "Qnogo_anode = pd.read_csv(REG_DIR / 'Qnogo_anode.csv', index_col = 0); Qnogo_anode = Qnogo_anode.T; Qnogo_anode.columns = subs\n",
    "Wgo_anode = pd.read_csv(REG_DIR / 'Wgo_anode.csv', index_col = 0); Wgo_anode = Wgo_anode.T; Wgo_anode.columns = subs\n",
    "Wnogo_anode = pd.read_csv(REG_DIR / 'Wnogo_anode.csv', index_col = 0); Wnogo_anode = Wnogo_anode.T; Wnogo_anode.columns = subs\n",
    "SV_anode = pd.read_csv(REG_DIR / 'SV_anode.csv', index_col = 0); SV_anode = SV_anode.T; SV_anode.columns = subs\n",
    "\n",
    "Qgo_sham = pd.read_csv(REG_DIR / 'Qgo_sham.csv', index_col = 0); Qgo_sham = Qgo_sham.T; Qgo_sham.columns = subs\n",
    "Qnogo_sham = pd.read_csv(REG_DIR / 'Qnogo_sham.csv', index_col = 0); Qnogo_sham = Qnogo_sham.T; Qnogo_sham.columns = subs\n",
    "Wgo_sham = pd.read_csv(REG_DIR / 'Wgo_sham.csv', index_col = 0); Wgo_sham = Wgo_sham.T; Wgo_sham.columns = subs\n",
    "Wnogo_sham = pd.read_csv(REG_DIR / 'Wnogo_sham.csv', index_col = 0); Wnogo_sham = Wnogo_sham.T; Wnogo_sham.columns = subs\n",
    "SV_sham = pd.read_csv(REG_DIR / 'SV_sham.csv', index_col = 0); SV_sham = SV_sham.T; SV_sham.columns = subs"
   ]
  },
  {
   "cell_type": "code",
   "execution_count": 9,
   "metadata": {},
   "outputs": [],
   "source": [
    "# List of tsvs\n",
    "tsvs = [f for f in os.listdir(DATA_DIR) if '.tsv' in f and int(f.split('_')[0].split('-')[-1]) in subs]"
   ]
  },
  {
   "cell_type": "code",
   "execution_count": 20,
   "metadata": {},
   "outputs": [],
   "source": [
    "def events(tsv, save):\n",
    "    #print(tsv.split('.')[0], ' started')\n",
    "    data = pd.read_csv(DATA_DIR / tsv, sep = '\\t', index_col = 0)\n",
    "\n",
    "    sub = int(tsv.split('_')[0].split('-')[-1])\n",
    "    ses = int(tsv.split('_')[1].split('-')[-1])\n",
    "    run = int(tsv.split('_')[3].split('-')[-1])\n",
    "    \n",
    "    if sub in subs:\n",
    "        if sub in anode_first:\n",
    "            stim = 'anode' if ses == 1 else 'sham'\n",
    "        else:\n",
    "            stim = 'sham'  if ses == 1 else 'anode'\n",
    "\n",
    "        cueOnset_ls    = data['time_onset']    - data['time_scan'].iloc[0]\n",
    "        fix1Onset_ls   = data['time_isi1']     - data['time_scan'].iloc[0]\n",
    "        targetOnset_ls = data['time_circle']   - data['time_scan'].iloc[0]\n",
    "        fix2Onset_ls   = data['time_isi2']     - data['time_scan'].iloc[0]\n",
    "        fbOnset_ls     = data['time_feedback'] - data['time_scan'].iloc[0]\n",
    "        waitOnset_ls   = data['time_iti']      - data['time_scan'].iloc[0]\n",
    "        timeDone_ls    = data['time_done']     - data['time_scan'].iloc[0]\n",
    "        cueDur_ls      = targetOnset_ls        - cueOnset_ls\n",
    "        #fix1Dur_ls     = targetOnset_ls        - fix1Onset_ls\n",
    "        #targetDur_ls   = fix2Onset_ls          - targetOnset_ls\n",
    "        fix2Dur_ls     = fbOnset_ls            - fix2Onset_ls\n",
    "        fbDur_ls       = waitOnset_ls          - fbOnset_ls\n",
    "        waitDur_ls     = timeDone_ls           - waitOnset_ls\n",
    "\n",
    "        if stim == 'anode':\n",
    "            if run == 1:\n",
    "                Qgo = Qgo_anode[sub][0:60].tolist();Qnogo = Qnogo_anode[sub][0:60].tolist()\n",
    "                Wgo = Wgo_anode[sub][0:60].tolist();Wnogo = Wnogo_anode[sub][0:60].tolist()\n",
    "                SV = SV_anode[sub][0:60].tolist()\n",
    "            if run == 2:\n",
    "                Qgo = Qgo_anode[sub][60:120].tolist();Qnogo = Qnogo_anode[sub][60:120].tolist()\n",
    "                Wgo = Wgo_anode[sub][60:120].tolist();Wnogo = Wnogo_anode[sub][60:120].tolist()\n",
    "                SV =SV_anode[sub][60:120].tolist()\n",
    "            if run == 3:\n",
    "                Qgo = Qgo_anode[sub][120:180].tolist();Qnogo = Qnogo_anode[sub][120:180].tolist()\n",
    "                Wgo = Wgo_anode[sub][120:180].tolist();Wnogo = Wnogo_anode[sub][120:180].tolist()\n",
    "                SV =SV_anode[sub][120:180].tolist()\n",
    "\n",
    "        if stim == 'sham':\n",
    "            if run == 1:\n",
    "                Qgo = Qgo_sham[sub][0:60].tolist();Qnogo = Qnogo_sham[sub][0:60].tolist()\n",
    "                Wgo = Wgo_sham[sub][0:60].tolist();Wnogo = Wnogo_sham[sub][0:60].tolist()\n",
    "                SV =SV_sham[sub][0:60].tolist()\n",
    "            if run == 2:\n",
    "                Qgo = Qgo_sham[sub][60:120].tolist();Qnogo = Qnogo_sham[sub][60:120].tolist()\n",
    "                Wgo = Wgo_sham[sub][60:120].tolist();Wnogo = Wnogo_sham[sub][60:120].tolist()\n",
    "                SV =SV_sham[sub][60:120].tolist()\n",
    "            if run == 3:\n",
    "                Qgo = Qgo_sham[sub][120:180].tolist();Qnogo = Qnogo_sham[sub][120:180].tolist()\n",
    "                Wgo = Wgo_sham[sub][120:180].tolist();Wnogo = Wnogo_sham[sub][120:180].tolist()\n",
    "                SV =SV_sham[sub][120:180].tolist()\n",
    "\n",
    "        tmp_ = pd.DataFrame({'cueOnset'   : cueOnset_ls,\n",
    "                             'fix1Onset'  : fix1Onset_ls,\n",
    "                             'targetOnset': targetOnset_ls,\n",
    "                             'fix2Onset'  : fix2Onset_ls,\n",
    "                             'fbOnset'    : fbOnset_ls,\n",
    "                             'waitOnset'  : waitOnset_ls,\n",
    "                             'cueDur'     : cueDur_ls,\n",
    "                             #'fix1Dur'    : fix1Dur_ls,\n",
    "                             #'targetDur'  : targetDur_ls,\n",
    "                             'fbDur'      : fbDur_ls,\n",
    "                             'fix2Dur'    : fix2Dur_ls,\n",
    "                             'waitDur'    : waitDur_ls,\n",
    "                             'Qgo'        : Qgo,\n",
    "                             'Qnogo'      : Qnogo,\n",
    "                             'Wgo'        : Wgo,\n",
    "                             'Wnogo'      : Wnogo,\n",
    "                             'SV'         : SV})\n",
    "\n",
    "        tmp = pd.concat([tmp_, data], axis = 1)\n",
    "\n",
    "        if save:\n",
    "            fname = tsv[:4] + 'BRL' + tsv[4:]\n",
    "            tmp.to_csv(OUT_DIR / 'tsvs'/ fname ,sep='\\t', index = False)\n",
    "            mat = fname.split('.')[0]+'.mat'\n",
    "            io.savemat(str(OUT_DIR / 'mats'/ mat), {'struct':tmp.to_dict(\"list\")},oned_as='column')\n",
    "\n",
    "            print(fname.split('.')[0], ' saved')\n",
    "        else:\n",
    "            print(fname.split('.')[0], ' done')"
   ]
  },
  {
   "cell_type": "code",
   "execution_count": 21,
   "metadata": {},
   "outputs": [
    {
     "name": "stderr",
     "output_type": "stream",
     "text": [
      "/home/kimhj9502/anaconda3/lib/python3.7/site-packages/scipy/io/matlab/miobase.py:414: FutureWarning: Using a non-tuple sequence for multidimensional indexing is deprecated; use `arr[tuple(seq)]` instead of `arr[seq]`. In the future this will be interpreted as an array index, `arr[np.array(seq)]`, which will result either in an error or a different result.\n",
      "  arr[empties] = ' '\n"
     ]
    },
    {
     "name": "stdout",
     "output_type": "stream",
     "text": [
      "sub-BRL0107_ses-1_task-gng_run-2_events  saved\n",
      "sub-BRL0054_ses-1_task-gng_run-2_events  saved\n",
      "sub-BRL0079_ses-2_task-gng_run-2_events  saved\n",
      "sub-BRL0063_ses-1_task-gng_run-2_events  saved\n",
      "sub-BRL0073_ses-1_task-gng_run-1_events  saved\n",
      "sub-BRL0101_ses-2_task-gng_run-2_events  saved\n",
      "sub-BRL0110_ses-2_task-gng_run-1_events  saved\n",
      "sub-BRL0109_ses-1_task-gng_run-2_events  saved\n",
      "sub-BRL0060_ses-2_task-gng_run-1_events  saved\n",
      "sub-BRL0104_ses-1_task-gng_run-2_events  saved\n",
      "sub-BRL0121_ses-2_task-gng_run-1_events  saved\n",
      "sub-BRL0104_ses-2_task-gng_run-1_events  saved\n",
      "sub-BRL0101_ses-1_task-gng_run-2_events  saved\n",
      "sub-BRL0079_ses-1_task-gng_run-3_events  saved\n",
      "sub-BRL0063_ses-1_task-gng_run-1_events  saved\n",
      "sub-BRL0079_ses-1_task-gng_run-2_events  saved\n",
      "sub-BRL0101_ses-1_task-gng_run-1_events  saved\n",
      "sub-BRL0059_ses-2_task-gng_run-1_events  saved\n",
      "sub-BRL0033_ses-2_task-gng_run-3_events  saved\n",
      "sub-BRL0105_ses-2_task-gng_run-1_events  saved\n",
      "sub-BRL0030_ses-2_task-gng_run-3_events  saved\n",
      "sub-BRL0028_ses-1_task-gng_run-1_events  saved\n",
      "sub-BRL0108_ses-2_task-gng_run-1_events  saved\n",
      "sub-BRL0091_ses-2_task-gng_run-2_events  saved\n",
      "sub-BRL0107_ses-1_task-gng_run-3_events  saved\n",
      "sub-BRL0109_ses-1_task-gng_run-1_events  saved\n",
      "sub-BRL0127_ses-1_task-gng_run-1_events  saved\n",
      "sub-BRL0033_ses-1_task-gng_run-3_events  saved\n",
      "sub-BRL0079_ses-1_task-gng_run-1_events  saved\n",
      "sub-BRL0107_ses-1_task-gng_run-1_events  saved\n",
      "sub-BRL0110_ses-1_task-gng_run-3_events  saved\n",
      "sub-BRL0018_ses-1_task-gng_run-3_events  saved\n",
      "sub-BRL0054_ses-1_task-gng_run-1_events  saved\n",
      "sub-BRL0059_ses-2_task-gng_run-2_events  saved\n",
      "sub-BRL0018_ses-2_task-gng_run-1_events  saved\n",
      "sub-BRL0064_ses-2_task-gng_run-2_events  saved\n",
      "sub-BRL0112_ses-1_task-gng_run-1_events  saved\n",
      "sub-BRL0011_ses-1_task-gng_run-3_events  saved\n",
      "sub-BRL0030_ses-1_task-gng_run-2_events  saved\n",
      "sub-BRL0086_ses-2_task-gng_run-3_events  saved\n",
      "sub-BRL0063_ses-2_task-gng_run-1_events  saved\n",
      "sub-BRL0064_ses-2_task-gng_run-3_events  saved\n",
      "sub-BRL0054_ses-2_task-gng_run-2_events  saved\n",
      "sub-BRL0127_ses-2_task-gng_run-3_events  saved\n",
      "sub-BRL0086_ses-1_task-gng_run-1_events  saved\n",
      "sub-BRL0033_ses-1_task-gng_run-2_events  saved\n",
      "sub-BRL0125_ses-2_task-gng_run-2_events  saved\n",
      "sub-BRL0011_ses-2_task-gng_run-2_events  saved\n",
      "sub-BRL0091_ses-1_task-gng_run-3_events  saved\n",
      "sub-BRL0125_ses-1_task-gng_run-1_events  saved\n",
      "sub-BRL0091_ses-1_task-gng_run-2_events  saved\n",
      "sub-BRL0127_ses-1_task-gng_run-3_events  saved\n",
      "sub-BRL0108_ses-1_task-gng_run-2_events  saved\n",
      "sub-BRL0011_ses-2_task-gng_run-1_events  saved\n",
      "sub-BRL0063_ses-1_task-gng_run-3_events  saved\n",
      "sub-BRL0064_ses-1_task-gng_run-1_events  saved\n",
      "sub-BRL0091_ses-1_task-gng_run-1_events  saved\n",
      "sub-BRL0105_ses-2_task-gng_run-3_events  saved\n",
      "sub-BRL0110_ses-2_task-gng_run-2_events  saved\n",
      "sub-BRL0018_ses-2_task-gng_run-3_events  saved\n",
      "sub-BRL0076_ses-2_task-gng_run-3_events  saved\n",
      "sub-BRL0121_ses-1_task-gng_run-1_events  saved\n",
      "sub-BRL0073_ses-1_task-gng_run-2_events  saved\n",
      "sub-BRL0112_ses-1_task-gng_run-2_events  saved\n",
      "sub-BRL0076_ses-1_task-gng_run-1_events  saved\n",
      "sub-BRL0054_ses-2_task-gng_run-3_events  saved\n",
      "sub-BRL0101_ses-2_task-gng_run-1_events  saved\n",
      "sub-BRL0060_ses-1_task-gng_run-3_events  saved\n",
      "sub-BRL0091_ses-2_task-gng_run-3_events  saved\n",
      "sub-BRL0060_ses-2_task-gng_run-2_events  saved\n",
      "sub-BRL0125_ses-2_task-gng_run-3_events  saved\n",
      "sub-BRL0127_ses-1_task-gng_run-2_events  saved\n",
      "sub-BRL0018_ses-2_task-gng_run-2_events  saved\n",
      "sub-BRL0059_ses-1_task-gng_run-3_events  saved\n",
      "sub-BRL0104_ses-1_task-gng_run-3_events  saved\n",
      "sub-BRL0063_ses-2_task-gng_run-2_events  saved\n",
      "sub-BRL0105_ses-1_task-gng_run-1_events  saved\n",
      "sub-BRL0028_ses-2_task-gng_run-3_events  saved\n",
      "sub-BRL0054_ses-2_task-gng_run-1_events  saved\n",
      "sub-BRL0104_ses-1_task-gng_run-1_events  saved\n",
      "sub-BRL0060_ses-2_task-gng_run-3_events  saved\n",
      "sub-BRL0028_ses-2_task-gng_run-1_events  saved\n",
      "sub-BRL0030_ses-2_task-gng_run-2_events  saved\n",
      "sub-BRL0054_ses-1_task-gng_run-3_events  saved\n",
      "sub-BRL0112_ses-2_task-gng_run-2_events  saved\n",
      "sub-BRL0064_ses-2_task-gng_run-1_events  saved\n",
      "sub-BRL0043_ses-1_task-gng_run-2_events  saved\n",
      "sub-BRL0101_ses-2_task-gng_run-3_events  saved\n",
      "sub-BRL0086_ses-2_task-gng_run-1_events  saved\n",
      "sub-BRL0073_ses-2_task-gng_run-3_events  saved\n",
      "sub-BRL0043_ses-2_task-gng_run-2_events  saved\n",
      "sub-BRL0064_ses-1_task-gng_run-2_events  saved\n",
      "sub-BRL0079_ses-2_task-gng_run-3_events  saved\n",
      "sub-BRL0127_ses-2_task-gng_run-2_events  saved\n",
      "sub-BRL0043_ses-1_task-gng_run-1_events  saved\n",
      "sub-BRL0076_ses-1_task-gng_run-3_events  saved\n",
      "sub-BRL0104_ses-2_task-gng_run-3_events  saved\n",
      "sub-BRL0076_ses-2_task-gng_run-2_events  saved\n",
      "sub-BRL0011_ses-1_task-gng_run-1_events  saved\n",
      "sub-BRL0030_ses-1_task-gng_run-1_events  saved\n",
      "sub-BRL0033_ses-1_task-gng_run-1_events  saved\n",
      "sub-BRL0018_ses-1_task-gng_run-2_events  saved\n",
      "sub-BRL0108_ses-1_task-gng_run-1_events  saved\n",
      "sub-BRL0121_ses-2_task-gng_run-2_events  saved\n",
      "sub-BRL0110_ses-2_task-gng_run-3_events  saved\n",
      "sub-BRL0109_ses-2_task-gng_run-3_events  saved\n",
      "sub-BRL0011_ses-2_task-gng_run-3_events  saved\n",
      "sub-BRL0018_ses-1_task-gng_run-1_events  saved\n",
      "sub-BRL0112_ses-2_task-gng_run-3_events  saved\n",
      "sub-BRL0107_ses-2_task-gng_run-3_events  saved\n",
      "sub-BRL0108_ses-2_task-gng_run-2_events  saved\n",
      "sub-BRL0073_ses-2_task-gng_run-2_events  saved\n",
      "sub-BRL0110_ses-1_task-gng_run-2_events  saved\n",
      "sub-BRL0121_ses-1_task-gng_run-3_events  saved\n",
      "sub-BRL0059_ses-1_task-gng_run-2_events  saved\n",
      "sub-BRL0043_ses-2_task-gng_run-1_events  saved\n",
      "sub-BRL0091_ses-2_task-gng_run-1_events  saved\n",
      "sub-BRL0064_ses-1_task-gng_run-3_events  saved\n",
      "sub-BRL0033_ses-2_task-gng_run-1_events  saved\n",
      "sub-BRL0063_ses-2_task-gng_run-3_events  saved\n",
      "sub-BRL0108_ses-2_task-gng_run-3_events  saved\n",
      "sub-BRL0107_ses-2_task-gng_run-1_events  saved\n",
      "sub-BRL0112_ses-2_task-gng_run-1_events  saved\n",
      "sub-BRL0125_ses-1_task-gng_run-2_events  saved\n",
      "sub-BRL0110_ses-1_task-gng_run-1_events  saved\n",
      "sub-BRL0108_ses-1_task-gng_run-3_events  saved\n",
      "sub-BRL0127_ses-2_task-gng_run-1_events  saved\n",
      "sub-BRL0105_ses-1_task-gng_run-2_events  saved\n",
      "sub-BRL0079_ses-2_task-gng_run-1_events  saved\n",
      "sub-BRL0105_ses-2_task-gng_run-2_events  saved\n",
      "sub-BRL0121_ses-2_task-gng_run-3_events  saved\n",
      "sub-BRL0073_ses-1_task-gng_run-3_events  saved\n",
      "sub-BRL0086_ses-1_task-gng_run-3_events  saved\n",
      "sub-BRL0086_ses-1_task-gng_run-2_events  saved\n",
      "sub-BRL0109_ses-1_task-gng_run-3_events  saved\n",
      "sub-BRL0030_ses-2_task-gng_run-1_events  saved\n",
      "sub-BRL0043_ses-2_task-gng_run-3_events  saved\n",
      "sub-BRL0086_ses-2_task-gng_run-2_events  saved\n",
      "sub-BRL0105_ses-1_task-gng_run-3_events  saved\n",
      "sub-BRL0125_ses-1_task-gng_run-3_events  saved\n",
      "sub-BRL0107_ses-2_task-gng_run-2_events  saved\n",
      "sub-BRL0112_ses-1_task-gng_run-3_events  saved\n",
      "sub-BRL0125_ses-2_task-gng_run-1_events  saved\n",
      "sub-BRL0104_ses-2_task-gng_run-2_events  saved\n",
      "sub-BRL0109_ses-2_task-gng_run-2_events  saved\n",
      "sub-BRL0028_ses-1_task-gng_run-3_events  saved\n",
      "sub-BRL0060_ses-1_task-gng_run-2_events  saved\n",
      "sub-BRL0059_ses-2_task-gng_run-3_events  saved\n",
      "sub-BRL0059_ses-1_task-gng_run-1_events  saved\n",
      "sub-BRL0076_ses-2_task-gng_run-1_events  saved\n",
      "sub-BRL0060_ses-1_task-gng_run-1_events  saved\n",
      "sub-BRL0109_ses-2_task-gng_run-1_events  saved\n",
      "sub-BRL0011_ses-1_task-gng_run-2_events  saved\n",
      "sub-BRL0028_ses-2_task-gng_run-2_events  saved\n",
      "sub-BRL0030_ses-1_task-gng_run-3_events  saved\n",
      "sub-BRL0073_ses-2_task-gng_run-1_events  saved\n",
      "sub-BRL0121_ses-1_task-gng_run-2_events  saved\n",
      "sub-BRL0028_ses-1_task-gng_run-2_events  saved\n",
      "sub-BRL0033_ses-2_task-gng_run-2_events  saved\n",
      "sub-BRL0076_ses-1_task-gng_run-2_events  saved\n",
      "sub-BRL0101_ses-1_task-gng_run-3_events  saved\n",
      "sub-BRL0043_ses-1_task-gng_run-3_events  saved\n"
     ]
    }
   ],
   "source": [
    "for tsv in tsvs:\n",
    "    events(tsv=tsv, save=True)"
   ]
  },
  {
   "cell_type": "code",
   "execution_count": null,
   "metadata": {},
   "outputs": [],
   "source": []
  }
 ],
 "metadata": {
  "kernelspec": {
   "display_name": "Python 3",
   "language": "python",
   "name": "python3"
  },
  "language_info": {
   "codemirror_mode": {
    "name": "ipython",
    "version": 3
   },
   "file_extension": ".py",
   "mimetype": "text/x-python",
   "name": "python",
   "nbconvert_exporter": "python",
   "pygments_lexer": "ipython3",
   "version": "3.7.1"
  }
 },
 "nbformat": 4,
 "nbformat_minor": 2
}
