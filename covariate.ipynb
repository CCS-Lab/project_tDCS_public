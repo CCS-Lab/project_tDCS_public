{
 "cells": [
  {
   "cell_type": "code",
   "execution_count": 1,
   "metadata": {},
   "outputs": [],
   "source": [
    "import pandas as pd\n",
    "import numpy as np"
   ]
  },
  {
   "cell_type": "code",
   "execution_count": 2,
   "metadata": {},
   "outputs": [],
   "source": [
    "BRL_indices = pd.read_excel('/data2/project_BRL/project_tDCS/mri_session_checklist_data.xlsx')"
   ]
  },
  {
   "cell_type": "code",
   "execution_count": 97,
   "metadata": {},
   "outputs": [],
   "source": [
    "BRL_cov = BRL_indices.iloc[:,:3] "
   ]
  },
  {
   "cell_type": "code",
   "execution_count": 4,
   "metadata": {},
   "outputs": [],
   "source": [
    "BRL_cov.columns = ['Session Name','male','age']"
   ]
  },
  {
   "cell_type": "code",
   "execution_count": 16,
   "metadata": {},
   "outputs": [],
   "source": [
    "sublist = []\n",
    "for i in range(len(BRL_cov)):\n",
    "    if i > 0:\n",
    "        tmp = BRL_cov['Session Name'][i]\n",
    "        tmp_ = tmp.split('_1')[0].split('BRL')[-1]\n",
    "        sub = np.int(tmp_)\n",
    "        sublist.append(sub)"
   ]
  },
  {
   "cell_type": "code",
   "execution_count": 25,
   "metadata": {},
   "outputs": [
    {
     "name": "stderr",
     "output_type": "stream",
     "text": [
      "/home/kimhj9502/anaconda3/lib/python3.6/site-packages/ipykernel_launcher.py:1: SettingWithCopyWarning: \n",
      "A value is trying to be set on a copy of a slice from a DataFrame.\n",
      "Try using .loc[row_indexer,col_indexer] = value instead\n",
      "\n",
      "See the caveats in the documentation: http://pandas.pydata.org/pandas-docs/stable/indexing.html#indexing-view-versus-copy\n",
      "  \"\"\"Entry point for launching an IPython kernel.\n"
     ]
    }
   ],
   "source": [
    "BRL_cov['sub'] = [0]+sublist"
   ]
  },
  {
   "cell_type": "code",
   "execution_count": 27,
   "metadata": {},
   "outputs": [],
   "source": [
    "BRL_cov = BRL_cov.replace('M',1).replace('F',0)"
   ]
  },
  {
   "cell_type": "code",
   "execution_count": 29,
   "metadata": {},
   "outputs": [
    {
     "data": {
      "text/plain": [
       "Index(['Session Name', 'male', 'age', 'sub'], dtype='object')"
      ]
     },
     "execution_count": 29,
     "metadata": {},
     "output_type": "execute_result"
    }
   ],
   "source": [
    "BRL_cov.columns"
   ]
  },
  {
   "cell_type": "code",
   "execution_count": 10,
   "metadata": {},
   "outputs": [
    {
     "data": {
      "text/plain": [
       "'/home/kimhj9502/Project/project_tDCS/analysis'"
      ]
     },
     "execution_count": 10,
     "metadata": {},
     "output_type": "execute_result"
    }
   ],
   "source": [
    "pwd"
   ]
  },
  {
   "cell_type": "markdown",
   "metadata": {},
   "source": [
    "# Modeling"
   ]
  },
  {
   "cell_type": "code",
   "execution_count": 12,
   "metadata": {},
   "outputs": [],
   "source": [
    "model_a = pd.read_csv('/home/kimhj9502/Project/project_tDCS/analysis/modeling/modeling_anode_tmp.csv')"
   ]
  },
  {
   "cell_type": "code",
   "execution_count": 13,
   "metadata": {},
   "outputs": [],
   "source": [
    "model_s = pd.read_csv('/home/kimhj9502/Project/project_tDCS/analysis/modeling/modeling_sham_tmp.csv')"
   ]
  },
  {
   "cell_type": "code",
   "execution_count": 32,
   "metadata": {},
   "outputs": [],
   "source": [
    "model_a['sub'] = model_a['subj_list_anode'] \n",
    "model_s['sub'] = model_s['subj_list_sham'] "
   ]
  },
  {
   "cell_type": "code",
   "execution_count": 36,
   "metadata": {},
   "outputs": [],
   "source": [
    "model_ss = pd.merge(BRL_cov, model_s, on = 'sub')\n",
    "model_aa = pd.merge(BRL_cov, model_a, on = 'sub')"
   ]
  },
  {
   "cell_type": "code",
   "execution_count": 41,
   "metadata": {},
   "outputs": [
    {
     "name": "stderr",
     "output_type": "stream",
     "text": [
      "/home/kimhj9502/anaconda3/lib/python3.6/site-packages/ipykernel_launcher.py:1: FutureWarning: Sorting because non-concatenation axis is not aligned. A future version\n",
      "of pandas will change to not sort by default.\n",
      "\n",
      "To accept the future behavior, pass 'sort=True'.\n",
      "\n",
      "To retain the current behavior and silence the warning, pass sort=False\n",
      "\n",
      "  \"\"\"Entry point for launching an IPython kernel.\n"
     ]
    }
   ],
   "source": [
    "model = pd.concat([model_ss, model_aa])"
   ]
  },
  {
   "cell_type": "code",
   "execution_count": 42,
   "metadata": {},
   "outputs": [],
   "source": [
    "from statsmodels.genmod.generalized_linear_model import GLM"
   ]
  },
  {
   "cell_type": "code",
   "execution_count": 44,
   "metadata": {},
   "outputs": [
    {
     "data": {
      "text/plain": [
       "Index(['Session Name', 'Unnamed: 0', 'age', 'b', 'ep', 'male', 'piPun',\n",
       "       'piRew', 'rhoPun', 'rhoRew', 'sub', 'subj_list_anode', 'subj_list_sham',\n",
       "       'xi'],\n",
       "      dtype='object')"
      ]
     },
     "execution_count": 44,
     "metadata": {},
     "output_type": "execute_result"
    }
   ],
   "source": [
    "model.columns"
   ]
  },
  {
   "cell_type": "code",
   "execution_count": 59,
   "metadata": {},
   "outputs": [],
   "source": [
    "anode = np.isnan(model['subj_list_anode']).tolist()"
   ]
  },
  {
   "cell_type": "code",
   "execution_count": 71,
   "metadata": {},
   "outputs": [],
   "source": [
    "model['anode_'] = anode"
   ]
  },
  {
   "cell_type": "code",
   "execution_count": 72,
   "metadata": {},
   "outputs": [],
   "source": [
    "model['anode'] = model['anode_'] * 1"
   ]
  },
  {
   "cell_type": "code",
   "execution_count": 74,
   "metadata": {},
   "outputs": [],
   "source": [
    "X = model[['anode','age', 'male']]"
   ]
  },
  {
   "cell_type": "code",
   "execution_count": 76,
   "metadata": {},
   "outputs": [],
   "source": [
    "lny = model['piPun']"
   ]
  },
  {
   "cell_type": "code",
   "execution_count": 79,
   "metadata": {},
   "outputs": [],
   "source": [
    "glm = GLM(lny, X)"
   ]
  },
  {
   "cell_type": "code",
   "execution_count": 81,
   "metadata": {},
   "outputs": [],
   "source": [
    "rs = glm.fit()"
   ]
  },
  {
   "cell_type": "code",
   "execution_count": 84,
   "metadata": {},
   "outputs": [],
   "source": [
    "summ = rs.summary()"
   ]
  },
  {
   "cell_type": "code",
   "execution_count": 88,
   "metadata": {},
   "outputs": [
    {
     "data": {
      "text/plain": [
       "<bound method Summary.as_csv of <class 'statsmodels.iolib.summary.Summary'>\n",
       "\"\"\"\n",
       "                 Generalized Linear Model Regression Results                  \n",
       "==============================================================================\n",
       "Dep. Variable:                  piPun   No. Observations:                   31\n",
       "Model:                            GLM   Df Residuals:                       28\n",
       "Model Family:                Gaussian   Df Model:                            2\n",
       "Link Function:               identity   Scale:                         0.23626\n",
       "Method:                          IRLS   Log-Likelihood:                -20.046\n",
       "Date:                Tue, 13 Jul 2021   Deviance:                       6.6153\n",
       "Time:                        15:17:11   Pearson chi2:                     6.62\n",
       "No. Iterations:                     3   Covariance Type:             nonrobust\n",
       "==============================================================================\n",
       "                 coef    std err          z      P>|z|      [0.025      0.975]\n",
       "------------------------------------------------------------------------------\n",
       "anode          0.4276      0.181      2.357      0.018       0.072       0.783\n",
       "age            0.0012      0.006      0.198      0.843      -0.011       0.013\n",
       "male          -0.1220      0.169     -0.722      0.470      -0.453       0.209\n",
       "==============================================================================\n",
       "\"\"\">"
      ]
     },
     "execution_count": 88,
     "metadata": {},
     "output_type": "execute_result"
    }
   ],
   "source": [
    "summ.as_csv"
   ]
  },
  {
   "cell_type": "code",
   "execution_count": 93,
   "metadata": {},
   "outputs": [
    {
     "name": "stdout",
     "output_type": "stream",
     "text": [
      "xi\n",
      "<bound method Summary.as_csv of <class 'statsmodels.iolib.summary.Summary'>\n",
      "\"\"\"\n",
      "                 Generalized Linear Model Regression Results                  \n",
      "==============================================================================\n",
      "Dep. Variable:                     xi   No. Observations:                   31\n",
      "Model:                            GLM   Df Residuals:                       28\n",
      "Model Family:                Gaussian   Df Model:                            2\n",
      "Link Function:               identity   Scale:                      0.00040996\n",
      "Method:                          IRLS   Log-Likelihood:                 78.482\n",
      "Date:                Tue, 13 Jul 2021   Deviance:                     0.011479\n",
      "Time:                        15:20:36   Pearson chi2:                   0.0115\n",
      "No. Iterations:                     3   Covariance Type:             nonrobust\n",
      "==============================================================================\n",
      "                 coef    std err          z      P>|z|      [0.025      0.975]\n",
      "------------------------------------------------------------------------------\n",
      "anode          0.0577      0.008      7.630      0.000       0.043       0.072\n",
      "age            0.0018      0.000      7.329      0.000       0.001       0.002\n",
      "male          -0.0138      0.007     -1.967      0.049      -0.028   -4.84e-05\n",
      "==============================================================================\n",
      "\"\"\">\n",
      "b\n",
      "<bound method Summary.as_csv of <class 'statsmodels.iolib.summary.Summary'>\n",
      "\"\"\"\n",
      "                 Generalized Linear Model Regression Results                  \n",
      "==============================================================================\n",
      "Dep. Variable:                      b   No. Observations:                   31\n",
      "Model:                            GLM   Df Residuals:                       28\n",
      "Model Family:                Gaussian   Df Model:                            2\n",
      "Link Function:               identity   Scale:                         0.87228\n",
      "Method:                          IRLS   Log-Likelihood:                -40.292\n",
      "Date:                Tue, 13 Jul 2021   Deviance:                       24.424\n",
      "Time:                        15:20:36   Pearson chi2:                     24.4\n",
      "No. Iterations:                     3   Covariance Type:             nonrobust\n",
      "==============================================================================\n",
      "                 coef    std err          z      P>|z|      [0.025      0.975]\n",
      "------------------------------------------------------------------------------\n",
      "anode          1.2421      0.349      3.564      0.000       0.559       1.925\n",
      "age            0.0127      0.012      1.103      0.270      -0.010       0.035\n",
      "male          -0.6677      0.324     -2.058      0.040      -1.304      -0.032\n",
      "==============================================================================\n",
      "\"\"\">\n",
      "ep\n",
      "<bound method Summary.as_csv of <class 'statsmodels.iolib.summary.Summary'>\n",
      "\"\"\"\n",
      "                 Generalized Linear Model Regression Results                  \n",
      "==============================================================================\n",
      "Dep. Variable:                     ep   No. Observations:                   31\n",
      "Model:                            GLM   Df Residuals:                       28\n",
      "Model Family:                Gaussian   Df Model:                            2\n",
      "Link Function:               identity   Scale:                        0.034181\n",
      "Method:                          IRLS   Log-Likelihood:                 9.9197\n",
      "Date:                Tue, 13 Jul 2021   Deviance:                      0.95708\n",
      "Time:                        15:20:36   Pearson chi2:                    0.957\n",
      "No. Iterations:                     3   Covariance Type:             nonrobust\n",
      "==============================================================================\n",
      "                 coef    std err          z      P>|z|      [0.025      0.975]\n",
      "------------------------------------------------------------------------------\n",
      "anode         -0.1025      0.069     -1.486      0.137      -0.238       0.033\n",
      "age            0.0147      0.002      6.445      0.000       0.010       0.019\n",
      "male           0.2058      0.064      3.205      0.001       0.080       0.332\n",
      "==============================================================================\n",
      "\"\"\">\n",
      "piRew\n",
      "<bound method Summary.as_csv of <class 'statsmodels.iolib.summary.Summary'>\n",
      "\"\"\"\n",
      "                 Generalized Linear Model Regression Results                  \n",
      "==============================================================================\n",
      "Dep. Variable:                  piRew   No. Observations:                   31\n",
      "Model:                            GLM   Df Residuals:                       28\n",
      "Model Family:                Gaussian   Df Model:                            2\n",
      "Link Function:               identity   Scale:                        0.096905\n",
      "Method:                          IRLS   Log-Likelihood:                -6.2320\n",
      "Date:                Tue, 13 Jul 2021   Deviance:                       2.7133\n",
      "Time:                        15:20:36   Pearson chi2:                     2.71\n",
      "No. Iterations:                     3   Covariance Type:             nonrobust\n",
      "==============================================================================\n",
      "                 coef    std err          z      P>|z|      [0.025      0.975]\n",
      "------------------------------------------------------------------------------\n",
      "anode         -0.1433      0.116     -1.234      0.217      -0.371       0.084\n",
      "age            0.0007      0.004      0.183      0.855      -0.007       0.008\n",
      "male           0.0060      0.108      0.056      0.956      -0.206       0.218\n",
      "==============================================================================\n",
      "\"\"\">\n",
      "piPun\n",
      "<bound method Summary.as_csv of <class 'statsmodels.iolib.summary.Summary'>\n",
      "\"\"\"\n",
      "                 Generalized Linear Model Regression Results                  \n",
      "==============================================================================\n",
      "Dep. Variable:                  piPun   No. Observations:                   31\n",
      "Model:                            GLM   Df Residuals:                       28\n",
      "Model Family:                Gaussian   Df Model:                            2\n",
      "Link Function:               identity   Scale:                         0.23626\n",
      "Method:                          IRLS   Log-Likelihood:                -20.046\n",
      "Date:                Tue, 13 Jul 2021   Deviance:                       6.6153\n",
      "Time:                        15:20:36   Pearson chi2:                     6.62\n",
      "No. Iterations:                     3   Covariance Type:             nonrobust\n",
      "==============================================================================\n",
      "                 coef    std err          z      P>|z|      [0.025      0.975]\n",
      "------------------------------------------------------------------------------\n",
      "anode          0.4276      0.181      2.357      0.018       0.072       0.783\n",
      "age            0.0012      0.006      0.198      0.843      -0.011       0.013\n",
      "male          -0.1220      0.169     -0.722      0.470      -0.453       0.209\n",
      "==============================================================================\n",
      "\"\"\">\n",
      "rhoPun\n",
      "<bound method Summary.as_csv of <class 'statsmodels.iolib.summary.Summary'>\n",
      "\"\"\"\n",
      "                 Generalized Linear Model Regression Results                  \n",
      "==============================================================================\n",
      "Dep. Variable:                 rhoPun   No. Observations:                   31\n",
      "Model:                            GLM   Df Residuals:                       28\n",
      "Model Family:                Gaussian   Df Model:                            2\n",
      "Link Function:               identity   Scale:                          25.339\n",
      "Method:                          IRLS   Log-Likelihood:                -92.511\n",
      "Date:                Tue, 13 Jul 2021   Deviance:                       709.50\n",
      "Time:                        15:20:36   Pearson chi2:                     710.\n",
      "No. Iterations:                     3   Covariance Type:             nonrobust\n",
      "==============================================================================\n",
      "                 coef    std err          z      P>|z|      [0.025      0.975]\n",
      "------------------------------------------------------------------------------\n",
      "anode          4.2951      1.879      2.286      0.022       0.613       7.977\n",
      "age            0.3345      0.062      5.375      0.000       0.212       0.456\n",
      "male          -1.9069      1.749     -1.090      0.275      -5.334       1.520\n",
      "==============================================================================\n",
      "\"\"\">\n",
      "rhoRew\n",
      "<bound method Summary.as_csv of <class 'statsmodels.iolib.summary.Summary'>\n",
      "\"\"\"\n",
      "                 Generalized Linear Model Regression Results                  \n",
      "==============================================================================\n",
      "Dep. Variable:                 rhoRew   No. Observations:                   31\n",
      "Model:                            GLM   Df Residuals:                       28\n",
      "Model Family:                Gaussian   Df Model:                            2\n",
      "Link Function:               identity   Scale:                          115.56\n",
      "Method:                          IRLS   Log-Likelihood:                -116.03\n",
      "Date:                Tue, 13 Jul 2021   Deviance:                       3235.6\n",
      "Time:                        15:20:36   Pearson chi2:                 3.24e+03\n",
      "No. Iterations:                     3   Covariance Type:             nonrobust\n",
      "==============================================================================\n",
      "                 coef    std err          z      P>|z|      [0.025      0.975]\n",
      "------------------------------------------------------------------------------\n",
      "anode         -1.6181      4.012     -0.403      0.687      -9.481       6.245\n",
      "age            0.6340      0.133      4.771      0.000       0.374       0.894\n",
      "male           7.5607      3.734      2.025      0.043       0.242      14.880\n",
      "==============================================================================\n",
      "\"\"\">\n"
     ]
    }
   ],
   "source": [
    "for y_ in ['xi', 'b', 'ep', 'piRew', 'piPun','rhoPun', 'rhoRew']:\n",
    "    lny = model[y_]\n",
    "    glm = GLM(lny, X)\n",
    "    rs = glm.fit()\n",
    "    summ = rs.summary()\n",
    "    print(y_)\n",
    "    print(summ.as_csv)"
   ]
  },
  {
   "cell_type": "code",
   "execution_count": null,
   "metadata": {},
   "outputs": [],
   "source": [
    "# xi, b, piPun, and rhoPun 까지 차이가 있는 것으로 나옴"
   ]
  },
  {
   "cell_type": "markdown",
   "metadata": {},
   "source": [
    "# Pav Bias"
   ]
  },
  {
   "cell_type": "code",
   "execution_count": 98,
   "metadata": {},
   "outputs": [],
   "source": [
    "behav_1 = pd.read_csv('/home/kimhj9502/Project/project_tDCS/analysis/behav/data_subj_all_tmp1.csv')\n",
    "behav_2 = pd.read_csv('/home/kimhj9502/Project/project_tDCS/analysis/behav/data_subj_all_tmp2.csv')"
   ]
  },
  {
   "cell_type": "code",
   "execution_count": 103,
   "metadata": {},
   "outputs": [
    {
     "data": {
      "text/plain": [
       "Index(['subject', 'db', 'pavBias_rew', 'pavBias_pun'], dtype='object')"
      ]
     },
     "execution_count": 103,
     "metadata": {},
     "output_type": "execute_result"
    }
   ],
   "source": [
    "behav_2.columns"
   ]
  },
  {
   "cell_type": "code",
   "execution_count": 114,
   "metadata": {},
   "outputs": [],
   "source": [
    "behav_2_a = behav_2[behav_2['db'] == 'anode']\n",
    "behav_2_s = behav_2[behav_2['db'] == 'sham']\n",
    "behav_1_a = behav_1[behav_1['db'] == 'anode']\n",
    "behav_1_s = behav_1[behav_1['db'] == 'sham']"
   ]
  },
  {
   "cell_type": "code",
   "execution_count": 117,
   "metadata": {},
   "outputs": [
    {
     "name": "stderr",
     "output_type": "stream",
     "text": [
      "/home/kimhj9502/anaconda3/lib/python3.6/site-packages/ipykernel_launcher.py:1: SettingWithCopyWarning: \n",
      "A value is trying to be set on a copy of a slice from a DataFrame\n",
      "\n",
      "See the caveats in the documentation: http://pandas.pydata.org/pandas-docs/stable/indexing.html#indexing-view-versus-copy\n",
      "  \"\"\"Entry point for launching an IPython kernel.\n",
      "/home/kimhj9502/anaconda3/lib/python3.6/site-packages/ipykernel_launcher.py:2: SettingWithCopyWarning: \n",
      "A value is trying to be set on a copy of a slice from a DataFrame\n",
      "\n",
      "See the caveats in the documentation: http://pandas.pydata.org/pandas-docs/stable/indexing.html#indexing-view-versus-copy\n",
      "  \n",
      "/home/kimhj9502/anaconda3/lib/python3.6/site-packages/ipykernel_launcher.py:3: SettingWithCopyWarning: \n",
      "A value is trying to be set on a copy of a slice from a DataFrame\n",
      "\n",
      "See the caveats in the documentation: http://pandas.pydata.org/pandas-docs/stable/indexing.html#indexing-view-versus-copy\n",
      "  This is separate from the ipykernel package so we can avoid doing imports until\n",
      "/home/kimhj9502/anaconda3/lib/python3.6/site-packages/ipykernel_launcher.py:4: SettingWithCopyWarning: \n",
      "A value is trying to be set on a copy of a slice from a DataFrame\n",
      "\n",
      "See the caveats in the documentation: http://pandas.pydata.org/pandas-docs/stable/indexing.html#indexing-view-versus-copy\n",
      "  after removing the cwd from sys.path.\n"
     ]
    }
   ],
   "source": [
    "behav_2_a.sort_values(by = 'subject',  inplace= True)\n",
    "behav_2_s.sort_values(by = 'subject',  inplace= True)\n",
    "behav_1_a.sort_values(by = 'subject',  inplace= True)\n",
    "behav_1_s.sort_values(by = 'subject',  inplace= True)"
   ]
  },
  {
   "cell_type": "code",
   "execution_count": 124,
   "metadata": {},
   "outputs": [],
   "source": [
    "behav_a = pd.merge(behav_1_a, behav_2_a, on = 'subject')\n",
    "behav_s = pd.merge(behav_1_s, behav_2_s, on = 'subject')"
   ]
  },
  {
   "cell_type": "code",
   "execution_count": 128,
   "metadata": {},
   "outputs": [],
   "source": [
    "behav_ = pd.concat([behav_s, behav_a])"
   ]
  },
  {
   "cell_type": "code",
   "execution_count": 129,
   "metadata": {},
   "outputs": [],
   "source": [
    "behav_['sub'] = behav_['subject'] "
   ]
  },
  {
   "cell_type": "code",
   "execution_count": 130,
   "metadata": {},
   "outputs": [],
   "source": [
    "behav = pd.merge(BRL_cov, behav_, on = 'sub')"
   ]
  },
  {
   "cell_type": "code",
   "execution_count": 133,
   "metadata": {},
   "outputs": [],
   "source": [
    "behav = behav.replace('sham',0).replace('anode',1)"
   ]
  },
  {
   "cell_type": "code",
   "execution_count": 134,
   "metadata": {},
   "outputs": [],
   "source": [
    "behav['anode'] = behav['db_x']"
   ]
  },
  {
   "cell_type": "code",
   "execution_count": 136,
   "metadata": {},
   "outputs": [],
   "source": [
    "X = behav[['anode','age', 'male']]"
   ]
  },
  {
   "cell_type": "code",
   "execution_count": 137,
   "metadata": {},
   "outputs": [
    {
     "data": {
      "text/plain": [
       "Index(['Session Name', 'male', 'age', 'sub', 'subject', 'db_x', 'pavBias',\n",
       "       'db_y', 'pavBias_rew', 'pavBias_pun', 'anode'],\n",
       "      dtype='object')"
      ]
     },
     "execution_count": 137,
     "metadata": {},
     "output_type": "execute_result"
    }
   ],
   "source": [
    "behav.columns"
   ]
  },
  {
   "cell_type": "code",
   "execution_count": 139,
   "metadata": {},
   "outputs": [
    {
     "name": "stdout",
     "output_type": "stream",
     "text": [
      "pavBias\n",
      "<bound method Summary.as_csv of <class 'statsmodels.iolib.summary.Summary'>\n",
      "\"\"\"\n",
      "                 Generalized Linear Model Regression Results                  \n",
      "==============================================================================\n",
      "Dep. Variable:                pavBias   No. Observations:                   32\n",
      "Model:                            GLM   Df Residuals:                       29\n",
      "Model Family:                Gaussian   Df Model:                            2\n",
      "Link Function:               identity   Scale:                         0.17743\n",
      "Method:                          IRLS   Log-Likelihood:                -16.164\n",
      "Date:                Tue, 13 Jul 2021   Deviance:                       5.1453\n",
      "Time:                        15:39:08   Pearson chi2:                     5.15\n",
      "No. Iterations:                     3   Covariance Type:             nonrobust\n",
      "==============================================================================\n",
      "                 coef    std err          z      P>|z|      [0.025      0.975]\n",
      "------------------------------------------------------------------------------\n",
      "anode         -0.2405      0.147     -1.639      0.101      -0.528       0.047\n",
      "age            0.0181      0.005      3.817      0.000       0.009       0.027\n",
      "male          -0.2645      0.147     -1.799      0.072      -0.553       0.024\n",
      "==============================================================================\n",
      "\"\"\">\n",
      "pavBias_rew\n",
      "<bound method Summary.as_csv of <class 'statsmodels.iolib.summary.Summary'>\n",
      "\"\"\"\n",
      "                 Generalized Linear Model Regression Results                  \n",
      "==============================================================================\n",
      "Dep. Variable:            pavBias_rew   No. Observations:                   32\n",
      "Model:                            GLM   Df Residuals:                       29\n",
      "Model Family:                Gaussian   Df Model:                            2\n",
      "Link Function:               identity   Scale:                         0.13836\n",
      "Method:                          IRLS   Log-Likelihood:                -12.184\n",
      "Date:                Tue, 13 Jul 2021   Deviance:                       4.0124\n",
      "Time:                        15:39:08   Pearson chi2:                     4.01\n",
      "No. Iterations:                     3   Covariance Type:             nonrobust\n",
      "==============================================================================\n",
      "                 coef    std err          z      P>|z|      [0.025      0.975]\n",
      "------------------------------------------------------------------------------\n",
      "anode         -0.0851      0.130     -0.656      0.512      -0.339       0.169\n",
      "age            0.0103      0.004      2.471      0.013       0.002       0.019\n",
      "male          -0.2003      0.130     -1.543      0.123      -0.455       0.054\n",
      "==============================================================================\n",
      "\"\"\">\n",
      "pavBias_pun\n",
      "<bound method Summary.as_csv of <class 'statsmodels.iolib.summary.Summary'>\n",
      "\"\"\"\n",
      "                 Generalized Linear Model Regression Results                  \n",
      "==============================================================================\n",
      "Dep. Variable:            pavBias_pun   No. Observations:                   32\n",
      "Model:                            GLM   Df Residuals:                       29\n",
      "Model Family:                Gaussian   Df Model:                            2\n",
      "Link Function:               identity   Scale:                        0.021476\n",
      "Method:                          IRLS   Log-Likelihood:                 17.622\n",
      "Date:                Tue, 13 Jul 2021   Deviance:                      0.62281\n",
      "Time:                        15:39:08   Pearson chi2:                    0.623\n",
      "No. Iterations:                     3   Covariance Type:             nonrobust\n",
      "==============================================================================\n",
      "                 coef    std err          z      P>|z|      [0.025      0.975]\n",
      "------------------------------------------------------------------------------\n",
      "anode         -0.1555      0.051     -3.044      0.002      -0.256      -0.055\n",
      "age            0.0077      0.002      4.700      0.000       0.005       0.011\n",
      "male          -0.0642      0.051     -1.255      0.209      -0.164       0.036\n",
      "==============================================================================\n",
      "\"\"\">\n"
     ]
    }
   ],
   "source": [
    "for y_ in ['pavBias','pavBias_rew', 'pavBias_pun']:\n",
    "    lny = behav[y_]\n",
    "    glm = GLM(lny, X)\n",
    "    rs = glm.fit()\n",
    "    summ = rs.summary()\n",
    "    print(y_)\n",
    "    print(summ.as_csv)"
   ]
  },
  {
   "cell_type": "code",
   "execution_count": null,
   "metadata": {},
   "outputs": [],
   "source": []
  }
 ],
 "metadata": {
  "kernelspec": {
   "display_name": "Python 3",
   "language": "python",
   "name": "python3"
  },
  "language_info": {
   "codemirror_mode": {
    "name": "ipython",
    "version": 3
   },
   "file_extension": ".py",
   "mimetype": "text/x-python",
   "name": "python",
   "nbconvert_exporter": "python",
   "pygments_lexer": "ipython3",
   "version": "3.7.10"
  }
 },
 "nbformat": 4,
 "nbformat_minor": 2
}
